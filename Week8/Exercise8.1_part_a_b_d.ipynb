{
 "cells": [
  {
   "cell_type": "code",
   "execution_count": 10,
   "metadata": {},
   "outputs": [],
   "source": [
    "# Assignment 8.1\n",
    "# Problem 1: Dimensionality Reduction\n",
    "# Author: Saurabh Biswas\n",
    "# DSC550 T302"
   ]
  },
  {
   "cell_type": "code",
   "execution_count": 11,
   "metadata": {},
   "outputs": [],
   "source": [
    "# Import importatant libraries\n",
    "import numpy as np\n",
    "import pandas as pd\n",
    "from sklearn.metrics.pairwise import cosine_similarity\n",
    "from numpy import linalg as la"
   ]
  },
  {
   "cell_type": "markdown",
   "metadata": {},
   "source": [
    "# Part A"
   ]
  },
  {
   "cell_type": "code",
   "execution_count": 12,
   "metadata": {},
   "outputs": [
    {
     "data": {
      "text/html": [
       "<div>\n",
       "<style scoped>\n",
       "    .dataframe tbody tr th:only-of-type {\n",
       "        vertical-align: middle;\n",
       "    }\n",
       "\n",
       "    .dataframe tbody tr th {\n",
       "        vertical-align: top;\n",
       "    }\n",
       "\n",
       "    .dataframe thead th {\n",
       "        text-align: right;\n",
       "    }\n",
       "</style>\n",
       "<table border=\"1\" class=\"dataframe\">\n",
       "  <thead>\n",
       "    <tr style=\"text-align: right;\">\n",
       "      <th></th>\n",
       "      <th>M</th>\n",
       "      <th>N</th>\n",
       "      <th>P</th>\n",
       "      <th>Q</th>\n",
       "      <th>R</th>\n",
       "    </tr>\n",
       "  </thead>\n",
       "  <tbody>\n",
       "    <tr>\n",
       "      <td>A</td>\n",
       "      <td>1</td>\n",
       "      <td>2</td>\n",
       "      <td>3</td>\n",
       "      <td>4</td>\n",
       "      <td>5</td>\n",
       "    </tr>\n",
       "    <tr>\n",
       "      <td>B</td>\n",
       "      <td>2</td>\n",
       "      <td>3</td>\n",
       "      <td>2</td>\n",
       "      <td>5</td>\n",
       "      <td>3</td>\n",
       "    </tr>\n",
       "    <tr>\n",
       "      <td>C</td>\n",
       "      <td>5</td>\n",
       "      <td>5</td>\n",
       "      <td>5</td>\n",
       "      <td>3</td>\n",
       "      <td>2</td>\n",
       "    </tr>\n",
       "  </tbody>\n",
       "</table>\n",
       "</div>"
      ],
      "text/plain": [
       "   M  N  P  Q  R\n",
       "A  1  2  3  4  5\n",
       "B  2  3  2  5  3\n",
       "C  5  5  5  3  2"
      ]
     },
     "execution_count": 12,
     "metadata": {},
     "output_type": "execute_result"
    }
   ],
   "source": [
    "movie_names = ['M', 'N', 'P', 'Q', 'R']  # movie names i.e. column names\n",
    "movie_raters = ['A', 'B', 'C']  # movie raters i.e. index names\n",
    "\n",
    "df1 = pd.DataFrame(np.array([[1, 2, 3, 4, 5], [2, 3, 2, 5, 3], [5, 5, 5, 3, 2]]), columns=movie_names, \n",
    "                  index= movie_raters)\n",
    "\n",
    "df1"
   ]
  },
  {
   "cell_type": "code",
   "execution_count": 13,
   "metadata": {},
   "outputs": [
    {
     "data": {
      "text/html": [
       "<div>\n",
       "<style scoped>\n",
       "    .dataframe tbody tr th:only-of-type {\n",
       "        vertical-align: middle;\n",
       "    }\n",
       "\n",
       "    .dataframe tbody tr th {\n",
       "        vertical-align: top;\n",
       "    }\n",
       "\n",
       "    .dataframe thead th {\n",
       "        text-align: right;\n",
       "    }\n",
       "</style>\n",
       "<table border=\"1\" class=\"dataframe\">\n",
       "  <thead>\n",
       "    <tr style=\"text-align: right;\">\n",
       "      <th></th>\n",
       "      <th>M</th>\n",
       "      <th>N</th>\n",
       "      <th>P</th>\n",
       "      <th>Q</th>\n",
       "      <th>R</th>\n",
       "    </tr>\n",
       "  </thead>\n",
       "  <tbody>\n",
       "    <tr>\n",
       "      <td>A</td>\n",
       "      <td>-2.0</td>\n",
       "      <td>-1.0</td>\n",
       "      <td>0.0</td>\n",
       "      <td>1.0</td>\n",
       "      <td>2.0</td>\n",
       "    </tr>\n",
       "    <tr>\n",
       "      <td>B</td>\n",
       "      <td>-1.0</td>\n",
       "      <td>0.0</td>\n",
       "      <td>-1.0</td>\n",
       "      <td>2.0</td>\n",
       "      <td>0.0</td>\n",
       "    </tr>\n",
       "    <tr>\n",
       "      <td>C</td>\n",
       "      <td>1.0</td>\n",
       "      <td>1.0</td>\n",
       "      <td>1.0</td>\n",
       "      <td>-1.0</td>\n",
       "      <td>-2.0</td>\n",
       "    </tr>\n",
       "  </tbody>\n",
       "</table>\n",
       "</div>"
      ],
      "text/plain": [
       "     M    N    P    Q    R\n",
       "A -2.0 -1.0  0.0  1.0  2.0\n",
       "B -1.0  0.0 -1.0  2.0  0.0\n",
       "C  1.0  1.0  1.0 -1.0 -2.0"
      ]
     },
     "execution_count": 13,
     "metadata": {},
     "output_type": "execute_result"
    }
   ],
   "source": [
    "# calculate average of each row and subtract that from each element of that row.\n",
    "row_avg= df1.mean(axis=1)  # get average of each row\n",
    "df1 = df1.sub(row_avg,axis=0)  \n",
    "df1"
   ]
  },
  {
   "cell_type": "code",
   "execution_count": 14,
   "metadata": {},
   "outputs": [
    {
     "data": {
      "text/html": [
       "<div>\n",
       "<style scoped>\n",
       "    .dataframe tbody tr th:only-of-type {\n",
       "        vertical-align: middle;\n",
       "    }\n",
       "\n",
       "    .dataframe tbody tr th {\n",
       "        vertical-align: top;\n",
       "    }\n",
       "\n",
       "    .dataframe thead th {\n",
       "        text-align: right;\n",
       "    }\n",
       "</style>\n",
       "<table border=\"1\" class=\"dataframe\">\n",
       "  <thead>\n",
       "    <tr style=\"text-align: right;\">\n",
       "      <th></th>\n",
       "      <th>M</th>\n",
       "      <th>N</th>\n",
       "      <th>P</th>\n",
       "      <th>Q</th>\n",
       "      <th>R</th>\n",
       "    </tr>\n",
       "  </thead>\n",
       "  <tbody>\n",
       "    <tr>\n",
       "      <td>A</td>\n",
       "      <td>-1.333333</td>\n",
       "      <td>-1.0</td>\n",
       "      <td>0.0</td>\n",
       "      <td>0.333333</td>\n",
       "      <td>2.0</td>\n",
       "    </tr>\n",
       "    <tr>\n",
       "      <td>B</td>\n",
       "      <td>-0.333333</td>\n",
       "      <td>0.0</td>\n",
       "      <td>-1.0</td>\n",
       "      <td>1.333333</td>\n",
       "      <td>0.0</td>\n",
       "    </tr>\n",
       "    <tr>\n",
       "      <td>C</td>\n",
       "      <td>1.666667</td>\n",
       "      <td>1.0</td>\n",
       "      <td>1.0</td>\n",
       "      <td>-1.666667</td>\n",
       "      <td>-2.0</td>\n",
       "    </tr>\n",
       "  </tbody>\n",
       "</table>\n",
       "</div>"
      ],
      "text/plain": [
       "          M    N    P         Q    R\n",
       "A -1.333333 -1.0  0.0  0.333333  2.0\n",
       "B -0.333333  0.0 -1.0  1.333333  0.0\n",
       "C  1.666667  1.0  1.0 -1.666667 -2.0"
      ]
     },
     "execution_count": 14,
     "metadata": {},
     "output_type": "execute_result"
    }
   ],
   "source": [
    "# calculate average of each column and subtract that from each element of that column.\n",
    "col_avg= df1.mean(axis=0)  # get average of each column\n",
    "df1 = df1.sub(col_avg,axis=1)  \n",
    "df1"
   ]
  },
  {
   "cell_type": "markdown",
   "metadata": {},
   "source": [
    "# Part B"
   ]
  },
  {
   "cell_type": "markdown",
   "metadata": {},
   "source": [
    "Cosine similarities between two non zero vector is nothing but the cosine angle between those tow vector.\n",
    "Cosine distance = 1 - cosine simiarity. We can use sklearn's pairwise cosine similarity to calculate the cosine angle between each row of the given matrix i.e. between A & B, B & C and A & C. If cosine simraity between two vector is 1 then the angle between them is 0, that means they are similar. On the otherhand if both vector's cosine similarity is 0, then they are orthogonal."
   ]
  },
  {
   "cell_type": "code",
   "execution_count": 15,
   "metadata": {},
   "outputs": [],
   "source": [
    "def cosine_sim(vector, scale):\n",
    "    \"\"\"\n",
    "    Function to calculate cosine similarity\n",
    "    \"\"\"\n",
    "    for i in range(len(vector)):\n",
    "        vector[i][5] = vector[i][5]*scale   # change ratings by multiplying with scale\n",
    "\n",
    "\n",
    "    print('\\nPairwise cosine similarity for alpha=', alpha)\n",
    "    \n",
    "    similarities = cosine_similarity(vector[0].reshape(1,-1), vector[1].reshape(1,-1), dense_output=False)\n",
    "    print('Between A & B: {:.4f}'.format(similarities[0][0]))\n",
    "    \n",
    "    similarities = cosine_similarity(vector[1].reshape(1,-1), vector[2].reshape(1,-1), dense_output=False)\n",
    "    print('Between B & C: {:.4f}'.format(similarities[0][0]))\n",
    "    \n",
    "    similarities = cosine_similarity(vector[0].reshape(1,-1), vector[2].reshape(1,-1), dense_output=False)\n",
    "    print('Between A & C: {:.4f}'.format(similarities[0][0]))\n",
    "    \n",
    "    return\n"
   ]
  },
  {
   "cell_type": "code",
   "execution_count": 16,
   "metadata": {},
   "outputs": [
    {
     "name": "stdout",
     "output_type": "stream",
     "text": [
      "\n",
      "Pairwise cosine similarity for alpha= 0\n",
      "Between A & B: 0.6667\n",
      "Between B & C: 0.4082\n",
      "Between A & C: 0.0000\n",
      "\n",
      "Pairwise cosine similarity for alpha= 0.5\n",
      "Between A & B: 0.7217\n",
      "Between B & C: 0.6667\n",
      "Between A & C: 0.2887\n",
      "\n",
      "Pairwise cosine similarity for alpha= 1\n",
      "Between A & B: 0.8473\n",
      "Between B & C: 0.8498\n",
      "Between A & C: 0.6172\n",
      "\n",
      "Pairwise cosine similarity for alpha= 2\n",
      "Between A & B: 0.9461\n",
      "Between B & C: 0.9526\n",
      "Between A & C: 0.8652\n"
     ]
    }
   ],
   "source": [
    "\n",
    "# calculate pairwise cosine of angle for each alpha.\n",
    "for alpha in [0, 0.5, 1, 2]:\n",
    "    user_rating_vector = np.array([[1, 0, 1, 0, 1, 2], [1, 1, 0, 0, 1, 6], [0, 1, 0, 1, 0, 2]])\n",
    "    cosine_sim(user_rating_vector, alpha)"
   ]
  },
  {
   "cell_type": "markdown",
   "metadata": {},
   "source": [
    "# Part D"
   ]
  },
  {
   "cell_type": "markdown",
   "metadata": {},
   "source": [
    "We will caulculate the product of transpose of the given matrix with the matrix itself. Then use that product to get the eigenvalues and eigenvectors using numpy linalg function "
   ]
  },
  {
   "cell_type": "code",
   "execution_count": 17,
   "metadata": {},
   "outputs": [
    {
     "data": {
      "text/plain": [
       "array([[14, 17],\n",
       "       [17, 21]])"
      ]
     },
     "execution_count": 17,
     "metadata": {},
     "output_type": "execute_result"
    }
   ],
   "source": [
    "M = np.array([[1,1],[2,2],[3,4]])  # given 2d array\n",
    "MTM = np.dot(M.transpose(),M)   # Muliply M transpose with M to get the square matrix\n",
    "MTM"
   ]
  },
  {
   "cell_type": "code",
   "execution_count": 18,
   "metadata": {},
   "outputs": [
    {
     "name": "stdout",
     "output_type": "stream",
     "text": [
      "eigenvalues are: [ 0.14344504 34.85655496]\n",
      "eigenvectors are:\n",
      " [[-0.77512996 -0.63180182]\n",
      " [ 0.63180182 -0.77512996]]\n"
     ]
    }
   ],
   "source": [
    "eigenvalues, eigenvectors = la.eig(MTM)  # get eigenvalue and eigenvectors\n",
    "print('eigenvalues are:', eigenvalues)    # display eigenvalues\n",
    "print('eigenvectors are:\\n', eigenvectors)  # display eigenvectors"
   ]
  },
  {
   "cell_type": "code",
   "execution_count": null,
   "metadata": {},
   "outputs": [],
   "source": []
  },
  {
   "cell_type": "code",
   "execution_count": null,
   "metadata": {},
   "outputs": [],
   "source": []
  }
 ],
 "metadata": {
  "kernelspec": {
   "display_name": "Python 3",
   "language": "python",
   "name": "python3"
  },
  "language_info": {
   "codemirror_mode": {
    "name": "ipython",
    "version": 3
   },
   "file_extension": ".py",
   "mimetype": "text/x-python",
   "name": "python",
   "nbconvert_exporter": "python",
   "pygments_lexer": "ipython3",
   "version": "3.7.4"
  }
 },
 "nbformat": 4,
 "nbformat_minor": 2
}
